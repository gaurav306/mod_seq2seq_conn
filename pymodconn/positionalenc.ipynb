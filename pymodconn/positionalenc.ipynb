{
 "cells": [
  {
   "cell_type": "code",
   "execution_count": 1,
   "metadata": {},
   "outputs": [
    {
     "name": "stdout",
     "output_type": "stream",
     "text": [
      "Couldn't import dot_parser, loading of dot files will not be possible.\n",
      "(672, 128)\n",
      "(128,)\n",
      "(672, 128)\n",
      "(128,)\n"
     ]
    },
    {
     "ename": "",
     "evalue": "",
     "output_type": "error",
     "traceback": [
      "\u001b[1;31mCanceled future for execute_request message before replies were done"
     ]
    },
    {
     "ename": "",
     "evalue": "",
     "output_type": "error",
     "traceback": [
      "\u001b[1;31mThe Kernel crashed while executing code in the the current cell or a previous cell. Please review the code in the cell(s) to identify a possible cause of the failure. Click <a href='https://aka.ms/vscodeJupyterKernelCrash'>here</a> for more info. View Jupyter <a href='command:jupyter.viewOutput'>log</a> for further details."
     ]
    }
   ],
   "source": [
    "import tensorflow as tf\n",
    "from tensorflow.keras import layers, models\n",
    "import numpy as np\n",
    "import matplotlib.pyplot as plot\n",
    "\n",
    "def positional_encoding(position, d_model):\n",
    "    def get_angles(pos, i, d_model):\n",
    "        angle_rates = 1 / np.power(1000, (2 * (i // 2)) / np.float32(d_model))\n",
    "        return pos * angle_rates\n",
    "    \n",
    "    angle_rads = get_angles(np.arange(position)[:, np.newaxis],\n",
    "                             np.arange(d_model)[np.newaxis, :],\n",
    "                             d_model)\n",
    "    angle_rads[:, 0::2] = np.sin(angle_rads[:, 0::2])\n",
    "    angle_rads[:, 1::2] = np.cos(angle_rads[:, 1::2])\n",
    "    pos_encoding = angle_rads[np.newaxis, ...]\n",
    "    return tf.cast(pos_encoding, dtype=tf.float32)\n",
    "\n",
    "\n",
    "# Constants\n",
    "past_steps = 672\n",
    "future_known_steps = 96\n",
    "num_features = 10\n",
    "d_model = 128\n",
    "\n",
    "# Positional encodings\n",
    "past_data_pos_encoding = positional_encoding(past_steps, d_model)\n",
    "future_known_data_pos_encoding = positional_encoding(future_known_steps, d_model)\n",
    "\n",
    "past_data = past_data_pos_encoding[:past_steps]\n",
    "future_known_data = future_known_data_pos_encoding[:future_known_steps]\n",
    "\n",
    "print(past_data[0].shape)\n",
    "print(past_data[0][0].shape)\n",
    "\n",
    "print(past_data_pos_encoding[0].shape)\n",
    "print(past_data_pos_encoding[0][0].shape)\n"
   ]
  },
  {
   "cell_type": "code",
   "execution_count": null,
   "metadata": {},
   "outputs": [],
   "source": [
    "import numpy as np\n",
    "import matplotlib.pyplot as plt\n",
    "from matplotlib.animation import FuncAnimation\n",
    "\n",
    "# Assuming you have a numpy array called \"data\" with shape (672, 128)\n",
    "# Replace the line below with your actual data array\n",
    "data = past_data[0]\n",
    "\n",
    "# Set up the plot\n",
    "# Set up the plot\n",
    "fig, ax = plt.subplots(figsize=(10, 5))\n",
    "x = np.arange(128)\n",
    "line, = ax.plot(x, data[0])\n",
    "ax.set_ylim(-1.5, 1.5)\n",
    "ax.set_xlim(0, 128)\n",
    "\n",
    "# Set up the axis labels\n",
    "ax.set_xlabel('X-axis')\n",
    "ax.set_ylabel('Y-axis')\n",
    "\n",
    "# Update function for the animation\n",
    "def update(i):\n",
    "    line.set_ydata(data[i])\n",
    "\n",
    "# Create the animation\n",
    "ani = FuncAnimation(fig, update, frames=672, interval=100, blit=False)\n",
    "\n",
    "# Save the animation as a GIF\n",
    "ani.save('animation.gif', writer='imagemagick', fps=60)\n",
    "\n",
    "\n",
    "\n"
   ]
  },
  {
   "cell_type": "code",
   "execution_count": null,
   "metadata": {},
   "outputs": [],
   "source": []
  }
 ],
 "metadata": {
  "kernelspec": {
   "display_name": "phdwork1",
   "language": "python",
   "name": "phdwork1"
  },
  "language_info": {
   "codemirror_mode": {
    "name": "ipython",
    "version": 3
   },
   "file_extension": ".py",
   "mimetype": "text/x-python",
   "name": "python",
   "nbconvert_exporter": "python",
   "pygments_lexer": "ipython3",
   "version": "3.10.4"
  },
  "orig_nbformat": 4
 },
 "nbformat": 4,
 "nbformat_minor": 2
}
