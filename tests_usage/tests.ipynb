{
 "cells": [
  {
   "cell_type": "code",
   "execution_count": 1,
   "metadata": {},
   "outputs": [],
   "source": [
    "import ruamel.yaml\n",
    "import os\n",
    "import json\n",
    "from jsonschema import validate, ValidationError\n",
    "import jsonschema\n",
    "import pkg_resources\n",
    "\n",
    "yaml = ruamel.yaml.YAML()\n",
    "DEFAULT_CONFIG_FILENAME = \"new_config.yaml\"\n",
    "\n",
    "def read_write_yaml(filename, mode, data_yaml):\n",
    "\t# Read the yaml file\n",
    "\tif mode == 'r':\n",
    "\t\twith open(filename) as file:\n",
    "\t\t\tyaml_configs = yaml.load(file)\n",
    "\t\treturn yaml_configs\n",
    "\n",
    "\t# Write to the yaml file\n",
    "\tif mode == 'w':\n",
    "\t\twith open(filename, 'w') as yamlfile:\n",
    "\t\t\tyaml.dump(data_yaml, yamlfile)\n",
    "\n",
    "configs = read_write_yaml(DEFAULT_CONFIG_FILENAME, 'r', None)"
   ]
  },
  {
   "cell_type": "code",
   "execution_count": 2,
   "metadata": {},
   "outputs": [
    {
     "data": {
      "text/plain": [
       "{'if_model_image': 1, 'if_model_summary': 0, 'if_seed': 0, 'seed': 500, 'model_type_prob': 'prob', 'loss_prob': 'nonparametric', 'loss': 'mean_squared_error', 'quantiles': [0.01, 0.05, 0.1, 0.5, 0.9, 0.95, 0.99], 'metrics': ['mape', 'acc'], 'optimizer': 'Adam', 'Adam': {'lr': 0.001, 'b1': 0.9, 'b2': 0.999, 'epsi': 1e-08}, 'SGD': {'lr': 0.001, 'momentum': 0.9}, 'save_models_dir': 'saved_models/', 'batch_size': 32, 'n_past': 672, 'n_future': 96, 'known_past_features': 31, 'unknown_future_features': 1, 'known_future_features': 15, 'control_future_cells': 6, 'all_layers_neurons': 128, 'all_layers_dropout': 0.4, 'IF_SIMPLE_MODEL': {'IF': 1, 'ALL_RNN_DEPTH': 3, 'ALL_RNN_TYPE': 'GRU', 'ALL_RNN_BIDIRECTIONAL': 1, 'ALL_MHA_HEAD': 8, 'ALL_MHA_DEPTH': 3, 'ALL_TCN_KERNEL_SIZE': 3, 'ALL_TCN_NB_STACKS': 2, 'ALL_TCN_DILATIONS': [1, 2, 4, 8, 16, 32], 'IF_ALL_NONE_GLUADDNORM_ADDNORM': 1, 'IF_ALL_GRN': 1, 'IF_ALL_POS_ENCODE': 1, 'IF_ALL_RNN': 1, 'IF_ALL_MHA': 1, 'IF_ALL_TCN': 1}, 'encoder': {'TCN_input': {'IF_TCN': 1, 'IF_NONE_GLUADDNORM_ADDNORM_TCN': 1, 'kernel_size': 3, 'nb_stacks': 2, 'dilations': [1, 2, 4, 8, 16, 32]}, 'RNN_block_input': {'IF_RNN': 1, 'IF_NONE_GLUADDNORM_ADDNORM_block': 1, 'IF_GRN_block': 1, 'rnn_depth': 3, 'rnn_type': 'GRU', 'IF_birectionalRNN': 1, 'IF_NONE_GLUADDNORM_ADDNORM_deep': 1}, 'IF_POS_ENCODE': 1, 'self_MHA_block': {'MHA_depth': 3, 'IF_MHA': 1, 'IF_GRN_block': 1, 'MHA_head': 8, 'IF_NONE_GLUADDNORM_ADDNORM_deep': 1}}, 'decoder': {'TCN_input': {'IF_TCN': 1, 'IF_NONE_GLUADDNORM_ADDNORM_TCN': 1, 'kernel_size': 3, 'nb_stacks': 2, 'dilations': [1, 2, 4, 8, 16, 32]}, 'RNN_block_input': {'IF_RNN': 1, 'IF_NONE_GLUADDNORM_ADDNORM_block': 1, 'IF_GRN_block': 0, 'rnn_depth': 3, 'rnn_type': 'GRU', 'IF_birectionalRNN': 1, 'IF_NONE_GLUADDNORM_ADDNORM_deep': 1}, 'IF_POS_ENCODE': 1, 'IF_SELF_CROSS_MHA': 1, 'SELF_CROSS_MHA_depth': 3, 'self_MHA_block': {'IF_MHA': 1, 'IF_GRN_block': 1, 'MHA_head': 8, 'IF_NONE_GLUADDNORM_ADDNORM_deep': 1}, 'cross_MHA_block': {'IF_MHA': 1, 'IF_GRN_block': 1, 'MHA_head': 8, 'IF_NONE_GLUADDNORM_ADDNORM_deep': 1}, 'TCN_output': {'IF_TCN': 1, 'IF_NONE_GLUADDNORM_ADDNORM_TCN': 1, 'kernel_size': 3, 'nb_stacks': 2, 'dilations': [1, 2, 4, 8, 16, 32]}, 'RNN_block_output': {'IF_RNN': 1, 'IF_NONE_GLUADDNORM_ADDNORM_block': 1, 'IF_GRN_block': 1, 'rnn_depth': 3, 'rnn_type': 'GRU', 'IF_birectionalRNN': 1, 'IF_NONE_GLUADDNORM_ADDNORM_deep': 1}, 'MERGE_STATES_METHOD': 4, 'IF_ATTENTION': 1, 'attn_type': 2}}"
      ]
     },
     "execution_count": 2,
     "metadata": {},
     "output_type": "execute_result"
    }
   ],
   "source": [
    "configs"
   ]
  },
  {
   "cell_type": "code",
   "execution_count": 7,
   "metadata": {},
   "outputs": [
    {
     "name": "stdout",
     "output_type": "stream",
     "text": [
      "<class 'KeyError'>\n"
     ]
    }
   ],
   "source": [
    "enc_dec = 'encoder'\n",
    "block = 'TCN_output'\n",
    "all_try = 'IF_NONE_GLUADDNORM_ADDNORM_TCN'\n",
    "\n",
    "try:\n",
    "    x = configs[enc_dec][block][all_try]\n",
    "    print(x)\n",
    "except KeyError:\n",
    "    print(KeyError)\n",
    "    pass"
   ]
  },
  {
   "cell_type": "code",
   "execution_count": null,
   "metadata": {},
   "outputs": [],
   "source": []
  }
 ],
 "metadata": {
  "kernelspec": {
   "display_name": "phdwork",
   "language": "python",
   "name": "python3"
  },
  "language_info": {
   "codemirror_mode": {
    "name": "ipython",
    "version": 3
   },
   "file_extension": ".py",
   "mimetype": "text/x-python",
   "name": "python",
   "nbconvert_exporter": "python",
   "pygments_lexer": "ipython3",
   "version": "3.9.16"
  },
  "orig_nbformat": 4
 },
 "nbformat": 4,
 "nbformat_minor": 2
}
