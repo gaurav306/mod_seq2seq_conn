{
 "cells": [
  {
   "cell_type": "code",
   "execution_count": 3,
   "metadata": {},
   "outputs": [
    {
     "name": "stdout",
     "output_type": "stream",
     "text": [
      "test1 class not used\n"
     ]
    },
    {
     "data": {
      "text/plain": [
       "<__main__.test1 at 0x26640b976d0>"
      ]
     },
     "execution_count": 3,
     "metadata": {},
     "output_type": "execute_result"
    }
   ],
   "source": [
    "class test1():\n",
    "    def __init__(self):\n",
    "        x = 1\n",
    "        if x==1:\n",
    "            print('test1 class not used')\n",
    "            return\n",
    "        print('test1')\n",
    "        self.okk()\n",
    "    \n",
    "    def okk(self):\n",
    "        print('okk')\n",
    "\n",
    "test1()"
   ]
  },
  {
   "cell_type": "code",
   "execution_count": 1,
   "metadata": {},
   "outputs": [
    {
     "name": "stdout",
     "output_type": "stream",
     "text": [
      "decoder_1_inputs\n",
      "decoder_1_inputs\n"
     ]
    }
   ],
   "source": [
    "i = 1\n",
    "print(f\"decoder_{i}_inputs\")\n",
    "print('decoder_%s_inputs' % str(i))"
   ]
  },
  {
   "cell_type": "code",
   "execution_count": null,
   "metadata": {},
   "outputs": [],
   "source": []
  }
 ],
 "metadata": {
  "kernelspec": {
   "display_name": "phdwork1",
   "language": "python",
   "name": "python3"
  },
  "language_info": {
   "codemirror_mode": {
    "name": "ipython",
    "version": 3
   },
   "file_extension": ".py",
   "mimetype": "text/x-python",
   "name": "python",
   "nbconvert_exporter": "python",
   "pygments_lexer": "ipython3",
   "version": "3.10.4"
  },
  "orig_nbformat": 4
 },
 "nbformat": 4,
 "nbformat_minor": 2
}
